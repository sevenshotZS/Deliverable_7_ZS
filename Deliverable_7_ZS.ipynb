{
  "nbformat": 4,
  "nbformat_minor": 0,
  "metadata": {
    "colab": {
      "provenance": []
    },
    "kernelspec": {
      "name": "python3",
      "display_name": "Python 3"
    },
    "language_info": {
      "name": "python"
    }
  },
  "cells": [
    {
      "cell_type": "code",
      "execution_count": 43,
      "metadata": {
        "id": "qzlpIjxUg7Cs"
      },
      "outputs": [],
      "source": [
        "import pandas as pd"
      ]
    },
    {
      "cell_type": "code",
      "source": [
        "# Asking to user enter an integer value greater than 0\n",
        "n = int(input(\"Enter an non-negative integer number: \"))"
      ],
      "metadata": {
        "colab": {
          "base_uri": "https://localhost:8080/"
        },
        "id": "4SaOGQtklhhN",
        "outputId": "c49f3461-cc66-4b20-c501-eca36a66b47c"
      },
      "execution_count": 44,
      "outputs": [
        {
          "name": "stdout",
          "output_type": "stream",
          "text": [
            "Enter an non-negative integer number: 4\n"
          ]
        }
      ]
    },
    {
      "cell_type": "code",
      "source": [
        "even = []\n",
        "odd = []\n",
        "fibo = [0,1]\n",
        "\n",
        "for i in range(n):\n",
        "  even.append(2*i)\n",
        "  odd.append(2*i+1)\n",
        "  if i > 1: fibo.append(fibo[i-2]+fibo[i-1])"
      ],
      "metadata": {
        "id": "CtxEl5ZHlP1Z"
      },
      "execution_count": 45,
      "outputs": []
    },
    {
      "cell_type": "code",
      "source": [
        "odd"
      ],
      "metadata": {
        "colab": {
          "base_uri": "https://localhost:8080/"
        },
        "id": "s_F5M-BWlR37",
        "outputId": "c5e35284-d9ca-486f-cffe-d98025834140"
      },
      "execution_count": 46,
      "outputs": [
        {
          "output_type": "execute_result",
          "data": {
            "text/plain": [
              "[1, 3, 5, 7]"
            ]
          },
          "metadata": {},
          "execution_count": 46
        }
      ]
    },
    {
      "cell_type": "code",
      "source": [
        "even"
      ],
      "metadata": {
        "colab": {
          "base_uri": "https://localhost:8080/"
        },
        "id": "TOF3p2T4lVYM",
        "outputId": "c0c58f22-9a28-4a62-d8d8-8744cec141fc"
      },
      "execution_count": 47,
      "outputs": [
        {
          "output_type": "execute_result",
          "data": {
            "text/plain": [
              "[0, 2, 4, 6]"
            ]
          },
          "metadata": {},
          "execution_count": 47
        }
      ]
    },
    {
      "cell_type": "code",
      "source": [
        "fibo"
      ],
      "metadata": {
        "colab": {
          "base_uri": "https://localhost:8080/"
        },
        "id": "Q80JOc9DlWVt",
        "outputId": "64643d30-a16b-415e-feac-d666aea3b200"
      },
      "execution_count": 48,
      "outputs": [
        {
          "output_type": "execute_result",
          "data": {
            "text/plain": [
              "[0, 1, 1, 2]"
            ]
          },
          "metadata": {},
          "execution_count": 48
        }
      ]
    },
    {
      "cell_type": "code",
      "source": [
        "len(even) == len(odd) == len(fibo) #Test to check the len of the three lists"
      ],
      "metadata": {
        "colab": {
          "base_uri": "https://localhost:8080/"
        },
        "id": "OvNoJ4ERlXZ6",
        "outputId": "948b7f29-625c-4590-99db-a3de20dba273"
      },
      "execution_count": 49,
      "outputs": [
        {
          "output_type": "execute_result",
          "data": {
            "text/plain": [
              "True"
            ]
          },
          "metadata": {},
          "execution_count": 49
        }
      ]
    },
    {
      "cell_type": "code",
      "source": [
        "print(\"-\"*37)\n",
        "print(\"|{:^5}|{:^8}|{:^8}|{:^12}|\".format(\"\",\"Even\",\"Odd\",\"Fibonacci\"))\n",
        "print(\"-\"*37)\n",
        "    \n",
        "for index in range(n):\n",
        "      print(\"|{:^5}|{:^8}|{:^8}|{:^12}|\".format(index,even[index],odd[index],fibo[index]))\n",
        "      print(\"-\"*37)"
      ],
      "metadata": {
        "colab": {
          "base_uri": "https://localhost:8080/"
        },
        "id": "O-4he1i9qzTA",
        "outputId": "0ea14bd8-43fa-46bc-f0fc-7938946407e6"
      },
      "execution_count": 50,
      "outputs": [
        {
          "output_type": "stream",
          "name": "stdout",
          "text": [
            "-------------------------------------\n",
            "|     |  Even  |  Odd   | Fibonacci  |\n",
            "-------------------------------------\n",
            "|  0  |   0    |   1    |     0      |\n",
            "-------------------------------------\n",
            "|  1  |   2    |   3    |     1      |\n",
            "-------------------------------------\n",
            "|  2  |   4    |   5    |     1      |\n",
            "-------------------------------------\n",
            "|  3  |   6    |   7    |     2      |\n",
            "-------------------------------------\n"
          ]
        }
      ]
    }
  ]
}